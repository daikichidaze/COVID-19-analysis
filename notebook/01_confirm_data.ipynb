{
 "metadata": {
  "language_info": {
   "codemirror_mode": {
    "name": "ipython",
    "version": 3
   },
   "file_extension": ".py",
   "mimetype": "text/x-python",
   "name": "python",
   "nbconvert_exporter": "python",
   "pygments_lexer": "ipython3",
   "version": "3.9.1"
  },
  "orig_nbformat": 2,
  "kernelspec": {
   "name": "python3",
   "display_name": "Python 3.9.1 64-bit",
   "metadata": {
    "interpreter": {
     "hash": "4cd7ab41f5fca4b9b44701077e38c5ffd31fe66a6cab21e0214b68d958d0e462"
    }
   }
  }
 },
 "nbformat": 4,
 "nbformat_minor": 2,
 "cells": [
  {
   "cell_type": "code",
   "execution_count": 146,
   "metadata": {},
   "outputs": [],
   "source": [
    "import os\n",
    "import re\n",
    "import pickle\n",
    "import pandas as pd\n",
    "from datetime import datetime\n",
    "from glob import glob"
   ]
  },
  {
   "source": [
    "# 1.Read files"
   ],
   "cell_type": "markdown",
   "metadata": {}
  },
  {
   "cell_type": "code",
   "execution_count": 147,
   "metadata": {},
   "outputs": [],
   "source": [
    "all_csv_paths = glob('../data/CSSE-data/csse_covid_19_data/csse_covid_19_daily_reports/*.csv')\n"
   ]
  },
  {
   "cell_type": "code",
   "execution_count": 148,
   "metadata": {},
   "outputs": [],
   "source": [
    "def conv_to_dt(str_path):\n",
    "    result = re.search(r'[0-9]{2}-[0-9]{2}-[0-9]{4}', str_path)\n",
    "    str_dt = result.group()\n",
    "    return datetime. strptime(str_dt, '%m-%d-%Y')\n"
   ]
  },
  {
   "cell_type": "code",
   "execution_count": 149,
   "metadata": {},
   "outputs": [],
   "source": [
    "df_files = pd.DataFrame([(conv_to_dt(p), p) for p in all_csv_paths], columns= ['date', 'path']).sort_values('date')\n",
    "df_files.index = df_files.date\n",
    "df_files['df_0'] = df_files.path.apply(pd.read_csv)"
   ]
  },
  {
   "cell_type": "code",
   "execution_count": 150,
   "metadata": {},
   "outputs": [],
   "source": [
    "with open('date_ordered_data.pkl', 'wb') as f:\n",
    "    pickle.dump(df_files, f)"
   ]
  },
  {
   "source": [
    "# 2.Summarize by countries"
   ],
   "cell_type": "markdown",
   "metadata": {}
  },
  {
   "cell_type": "code",
   "execution_count": 151,
   "metadata": {},
   "outputs": [
    {
     "output_type": "stream",
     "name": "stdout",
     "text": [
      "2020-01-22 00:00:00 ['Province/State', 'Country/Region', 'Last Update', 'Confirmed', 'Deaths', 'Recovered']\n2020-03-01 00:00:00 ['Province/State', 'Country/Region', 'Last Update', 'Confirmed', 'Deaths', 'Recovered', 'Latitude', 'Longitude']\n2020-03-22 00:00:00 ['FIPS', 'Admin2', 'Province_State', 'Country_Region', 'Last_Update', 'Lat', 'Long_', 'Confirmed', 'Deaths', 'Recovered', 'Active', 'Combined_Key']\n2020-05-29 00:00:00 ['FIPS', 'Admin2', 'Province_State', 'Country_Region', 'Last_Update', 'Lat', 'Long_', 'Confirmed', 'Deaths', 'Recovered', 'Active', 'Combined_Key', 'Incidence_Rate', 'Case-Fatality_Ratio']\n2020-11-09 00:00:00 ['FIPS', 'Admin2', 'Province_State', 'Country_Region', 'Last_Update', 'Lat', 'Long_', 'Confirmed', 'Deaths', 'Recovered', 'Active', 'Combined_Key', 'Incident_Rate', 'Case_Fatality_Ratio']\n"
     ]
    }
   ],
   "source": [
    "# Column name changed\n",
    "last_col = []\n",
    "\n",
    "for _, r in df_files.iterrows():\n",
    "    df_tmp = r['df_0']\n",
    "    dt = r['date']\n",
    "    col = df_tmp.columns.tolist()\n",
    "    if last_col != col:\n",
    "        print (dt, col)\n",
    "        last_col = col\n"
   ]
  },
  {
   "cell_type": "code",
   "execution_count": 152,
   "metadata": {},
   "outputs": [],
   "source": [
    "def set_columns(df):\n",
    "    df.columns = df.columns.str.replace('/','_')\n",
    "    df.columns = df.columns.str.replace(' ','_')\n",
    "    if not 'Active' in df.columns:\n",
    "        df['Active'] = None\n",
    "    return df[['Province_State','Country_Region','Last_Update','Confirmed','Deaths','Recovered','Active']]"
   ]
  },
  {
   "cell_type": "code",
   "execution_count": 153,
   "metadata": {},
   "outputs": [],
   "source": [
    "# Adjust table colums\n",
    "df_files['df_1'] = df_files['df_0'].apply(set_columns)\n",
    "df_files['df_2'] = df_files['df_1'].apply(lambda x : x.groupby('Country_Region').sum())"
   ]
  },
  {
   "cell_type": "code",
   "execution_count": 154,
   "metadata": {},
   "outputs": [],
   "source": [
    "target_col = 'Confirmed'\n",
    "df = pd.concat([df[target_col].to_frame().T for df in df_files['df_2']],axis = 0)\n",
    "df.index = df_files.date"
   ]
  },
  {
   "cell_type": "code",
   "execution_count": 155,
   "metadata": {},
   "outputs": [],
   "source": [
    "df.to_csv('view.csv', index=True)"
   ]
  },
  {
   "source": [
    "# 2.1Compare with CSSE data"
   ],
   "cell_type": "markdown",
   "metadata": {}
  },
  {
   "cell_type": "code",
   "execution_count": 169,
   "metadata": {
    "tags": []
   },
   "outputs": [],
   "source": [
    "df_raw = pd.read_csv('../data/CSSE-data/csse_covid_19_data/csse_covid_19_time_series/time_series_covid19_confirmed_global.csv')"
   ]
  },
  {
   "cell_type": "code",
   "execution_count": 170,
   "metadata": {},
   "outputs": [],
   "source": [
    "df_raw = df_raw.groupby('Country/Region').sum().iloc[:,2:]"
   ]
  },
  {
   "cell_type": "code",
   "execution_count": 171,
   "metadata": {},
   "outputs": [],
   "source": [
    "df_t = df.T.sort_index()"
   ]
  },
  {
   "cell_type": "code",
   "execution_count": 173,
   "metadata": {},
   "outputs": [],
   "source": [
    "df_raw.columns = df_t.columns"
   ]
  },
  {
   "cell_type": "code",
   "execution_count": 174,
   "metadata": {},
   "outputs": [],
   "source": [
    "df_t.to_csv('view1.csv')\n",
    "df_raw.to_csv('view2.csv')"
   ]
  },
  {
   "cell_type": "code",
   "execution_count": null,
   "metadata": {},
   "outputs": [],
   "source": []
  }
 ]
}